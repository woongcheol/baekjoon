{
 "cells": [
  {
   "cell_type": "code",
   "execution_count": null,
   "metadata": {},
   "outputs": [
    {
     "name": "stdout",
     "output_type": "stream",
     "text": [
      "6\n",
      "(())())\n",
      "NO\n",
      "(((()())()\n",
      "NO\n",
      "((()()(()))(((())))()\n",
      "NO\n"
     ]
    }
   ],
   "source": [
    "# 1차 시도\n",
    "from collections import deque\n",
    "\n",
    "T = int(input())\n",
    "left = '('\n",
    "right = ')'\n",
    "\n",
    "# VPS 검사\n",
    "def find_vps(ps):\n",
    "    while ps:\n",
    "        if ps[0] == left and ps[-1] == right:\n",
    "            ps.popleft()\n",
    "            ps.pop()\n",
    "        elif ps[0] == left and ps[1] == right:\n",
    "            ps.popleft()\n",
    "            ps.pop()\n",
    "        else:\n",
    "            break\n",
    "    if not ps:\n",
    "        print(\"YES\")\n",
    "    else:\n",
    "        print(\"NO\")\n",
    "\n",
    "# 테스트 케이스만큼 반복 실행\n",
    "for i in range(T):\n",
    "    ps = deque(input())\n",
    "    \n",
    "    # vps 찾기\n",
    "    find_vps(ps)"
   ]
  },
  {
   "cell_type": "code",
   "execution_count": null,
   "metadata": {},
   "outputs": [],
   "source": []
  }
 ],
 "metadata": {
  "interpreter": {
   "hash": "c9dc03230f5a22f1a8ec493563d5aaf33aedb0c89b727e26176caf1551ae8176"
  },
  "kernelspec": {
   "display_name": "Python 3 (ipykernel)",
   "language": "python",
   "name": "python3"
  },
  "language_info": {
   "codemirror_mode": {
    "name": "ipython",
    "version": 3
   },
   "file_extension": ".py",
   "mimetype": "text/x-python",
   "name": "python",
   "nbconvert_exporter": "python",
   "pygments_lexer": "ipython3",
   "version": "3.9.7"
  }
 },
 "nbformat": 4,
 "nbformat_minor": 2
}
