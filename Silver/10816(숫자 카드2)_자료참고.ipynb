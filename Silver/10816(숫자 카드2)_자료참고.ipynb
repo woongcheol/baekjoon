{
 "cells": [
  {
   "cell_type": "code",
   "execution_count": 3,
   "metadata": {},
   "outputs": [
    {
     "name": "stdout",
     "output_type": "stream",
     "text": [
      "\n"
     ]
    }
   ],
   "source": [
    "# 1차 시도\n",
    "from sys import stdin\n",
    "_ = stdin.readline()\n",
    "N = sorted(map(int,stdin.readline().split()))\n",
    "_ = stdin.readline()\n",
    "M = map(int,stdin.readline().split())\n",
    "\n",
    "def binary(n, N, start, end):\n",
    "    if start > end:\n",
    "        return 0\n",
    "    m = (start+end)//2\n",
    "    if n == N[m]:\n",
    "        return N[start:end+1].count(n)\n",
    "    elif n < N[m]:\n",
    "        return binary(n, N, start, m-1)\n",
    "    else:\n",
    "        return binary(n, N, m+1, end)\n",
    "\n",
    "n_dic = {}\n",
    "for n in N:\n",
    "    start = 0\n",
    "    end = len(N) - 1\n",
    "    if n not in n_dic:\n",
    "        n_dic[n] = binary(n, N, start, end)\n",
    "\n",
    "print(' '.join(str(n_dic[x]) if x in n_dic else '0' for x in M ))"
   ]
  },
  {
   "cell_type": "markdown",
   "metadata": {},
   "source": [
    "자료참고 : https://chancoding.tistory.com/45"
   ]
  }
 ],
 "metadata": {
  "interpreter": {
   "hash": "c9dc03230f5a22f1a8ec493563d5aaf33aedb0c89b727e26176caf1551ae8176"
  },
  "kernelspec": {
   "display_name": "Python 3.9.7 64-bit",
   "language": "python",
   "name": "python3"
  },
  "language_info": {
   "codemirror_mode": {
    "name": "ipython",
    "version": 3
   },
   "file_extension": ".py",
   "mimetype": "text/x-python",
   "name": "python",
   "nbconvert_exporter": "python",
   "pygments_lexer": "ipython3",
   "version": "3.9.7"
  },
  "orig_nbformat": 4
 },
 "nbformat": 4,
 "nbformat_minor": 2
}
